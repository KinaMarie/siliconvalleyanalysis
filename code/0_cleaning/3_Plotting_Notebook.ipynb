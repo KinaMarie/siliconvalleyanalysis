{
 "cells": [
  {
   "cell_type": "code",
   "execution_count": 163,
   "metadata": {
    "collapsed": false
   },
   "outputs": [],
   "source": [
    "import networkx as nx\n",
    "import matplotlib.pyplot as plt\n",
    "import seaborn as sns\n",
    "from collections import Counter, OrderedDict\n",
    "import operator\n",
    "import pandas as pd\n",
    "import math"
   ]
  },
  {
   "cell_type": "code",
   "execution_count": 164,
   "metadata": {
    "collapsed": false
   },
   "outputs": [],
   "source": [
    "g = nx.read_edgelist(\"max_wcc_graph.edgelist\", \n",
    "                     delimiter=\"\\t\", \n",
    "                     create_using  = nx.DiGraph(), \n",
    "                     data=True)\n",
    "temp = map(lambda (x, y): (x, float(y)), nx.get_edge_attributes(g, \"weight\").items())\n",
    "nx.set_edge_attributes(g, \"weight\", dict(temp))\n"
   ]
  },
  {
   "cell_type": "code",
   "execution_count": 165,
   "metadata": {
    "collapsed": false
   },
   "outputs": [
    {
     "data": {
      "text/plain": [
       "0"
      ]
     },
     "execution_count": 165,
     "metadata": {},
     "output_type": "execute_result"
    },
    {
     "data": {
      "text/plain": [
       "0"
      ]
     },
     "execution_count": 165,
     "metadata": {},
     "output_type": "execute_result"
    }
   ],
   "source": [
    "# Check for bipartiteness\n",
    "num_nodes = len(g.nodes())\n",
    "no_in_degree = len(filter(lambda x: x != 0, g.in_degree().values()))\n",
    "no_out_degree = len(filter(lambda x: x != 0, g.out_degree().values()))\n",
    "num_nodes - no_in_degree - no_out_degree"
   ]
  },
  {
   "cell_type": "code",
   "execution_count": 166,
   "metadata": {
    "collapsed": false
   },
   "outputs": [],
   "source": [
    "sns.set_style(\"white\")"
   ]
  },
  {
   "cell_type": "code",
   "execution_count": 167,
   "metadata": {
    "collapsed": true
   },
   "outputs": [],
   "source": [
    "in_counts = Counter(filter(lambda x: x != 0, g.in_degree().values())).items()\n",
    "out_counts = Counter(filter(lambda x: x != 0, g.out_degree().values())).items()\n",
    "in_degree_hist = zip(*sorted(in_counts, key=operator.itemgetter(0)))\n",
    "out_degree_hist = zip(*sorted(out_counts, key=operator.itemgetter(0)))"
   ]
  },
  {
   "cell_type": "code",
   "execution_count": 168,
   "metadata": {
    "collapsed": false
   },
   "outputs": [],
   "source": [
    "plt.figure()\n",
    "plt.plot(in_degree_hist[0], in_degree_hist[1], label=\"In Degree\")\n",
    "plt.plot(out_degree_hist[0], out_degree_hist[1], label=\"Out Degree\")\n",
    "plt.xlabel('Degree')\n",
    "plt.ylabel('Number of Companies')\n",
    "plt.title(\"Degree Graph: Number of Incoming/Outgoing Investments, 2005-2015\")\n",
    "plt.legend()\n",
    "plt.savefig(\"../../graphs/fig1-DegreeMaxWcc.png\",  bbox_inches=\"tight\")"
   ]
  },
  {
   "cell_type": "code",
   "execution_count": 169,
   "metadata": {
    "collapsed": false
   },
   "outputs": [],
   "source": [
    "plt.figure()\n",
    "plt.loglog(in_degree_hist[0], in_degree_hist[1], label=\"Log In Degree\")\n",
    "plt.loglog(out_degree_hist[0], out_degree_hist[1], label=\"Log Out Degree\")\n",
    "plt.xlabel('Log Degree')\n",
    "plt.ylabel('Log Number of Companies')\n",
    "plt.title(\"Degree Graph: Number of Incoming/Outgoing Investments, 2005-2015 (log-log scale)\")\n",
    "plt.legend()\n",
    "plt.savefig(\"../../graphs/fig2-DegreeMaxWccLogLog.png\", bbox_inches=\"tight\")"
   ]
  },
  {
   "cell_type": "code",
   "execution_count": 170,
   "metadata": {
    "collapsed": false
   },
   "outputs": [],
   "source": [
    "investors = map(lambda x: x[0],\n",
    "                filter(lambda x: x[1] != 0, \n",
    "                       g.out_degree().items()))\n",
    "\n",
    "startups = map(lambda x: x[0],\n",
    "               filter(lambda x: x[1] != 0, \n",
    "                      g.in_degree().items()))\n",
    "\n",
    "funds_raised = filter(lambda x: x!=0,\n",
    "                      g.in_degree(startups, weight='weight').values())\n",
    "log_funds_raised = map(lambda x: math.log(x), funds_raised)\n",
    "\n",
    "funds_invested = filter(lambda x: x!=0,\n",
    "                      g.out_degree(investors, weight='weight').values())\n",
    "log_funds_invested = map(lambda x: math.log(x), funds_invested)"
   ]
  },
  {
   "cell_type": "code",
   "execution_count": 171,
   "metadata": {
    "collapsed": true
   },
   "outputs": [],
   "source": [
    "plt.figure()\n",
    "sns.distplot(funds_raised, hist=False, rug=False, label=\"In-Weight (Funds Raised)\");\n",
    "sns.distplot(funds_invested, hist=False, rug=False, label=\"Out-Weight (Funds Invested)\");\n",
    "plt.xlabel(\"Funding, USD\")\n",
    "plt.ylabel(\"Density\")\n",
    "plt.title(\"Kernel Density Estimate of In-Weight / Out-Weight (Funds Raised/Invested)\")\n",
    "plt.savefig(\"../../graphs/fig3-DistFunds.png\", bbox_inches=\"tight\")"
   ]
  },
  {
   "cell_type": "code",
   "execution_count": 172,
   "metadata": {
    "collapsed": true
   },
   "outputs": [],
   "source": [
    "plt.figure()\n",
    "sns.distplot(log_funds_raised, hist=False, rug=False, label = \"Log In-Weight (Funds Raised)\");\n",
    "sns.distplot(log_funds_invested, hist=False, rug=False, label = \"Log Out-Weight (Funds Invested)\");\n",
    "plt.xlabel(\"Log Funding, USD\")\n",
    "plt.ylabel(\"Density\")\n",
    "plt.title(\"Kernel Density Estimate of Log Funds Raised (Log Edge Weight Distribution)\")\n",
    "plt.savefig(\"../../graphs/fig4-DistFundsLog.png\", bbox_inches=\"tight\")"
   ]
  },
  {
   "cell_type": "code",
   "execution_count": 173,
   "metadata": {
    "collapsed": false
   },
   "outputs": [
    {
     "data": {
      "text/plain": [
       "491335428.4384941"
      ]
     },
     "execution_count": 173,
     "metadata": {},
     "output_type": "execute_result"
    },
    {
     "data": {
      "text/plain": [
       "491335428.4384941"
      ]
     },
     "execution_count": 173,
     "metadata": {},
     "output_type": "execute_result"
    }
   ],
   "source": []
  }
 ],
 "metadata": {
  "kernelspec": {
   "display_name": "Python 2",
   "language": "python",
   "name": "python2"
  },
  "language_info": {
   "codemirror_mode": {
    "name": "ipython",
    "version": 2
   },
   "file_extension": ".py",
   "mimetype": "text/x-python",
   "name": "python",
   "nbconvert_exporter": "python",
   "pygments_lexer": "ipython2",
   "version": "2.7.10"
  }
 },
 "nbformat": 4,
 "nbformat_minor": 0
}
