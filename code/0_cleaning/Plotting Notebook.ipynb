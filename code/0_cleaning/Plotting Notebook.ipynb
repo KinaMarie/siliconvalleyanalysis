{
 "cells": [
  {
   "cell_type": "code",
   "execution_count": 7,
   "metadata": {
    "collapsed": false
   },
   "outputs": [
    {
     "name": "stderr",
     "output_type": "stream",
     "text": [
      "/home/charles/anaconda/lib/python2.7/site-packages/matplotlib/__init__.py:872: UserWarning: axes.color_cycle is deprecated and replaced with axes.prop_cycle; please use the latter.\n",
      "  warnings.warn(self.msg_depr % (key, alt_key))\n"
     ]
    }
   ],
   "source": [
    "import networkx as nx\n",
    "import matplotlib.pyplot as plt\n",
    "import seaborn as sns\n",
    "from collections import Counter\n",
    "import operator"
   ]
  },
  {
   "cell_type": "code",
   "execution_count": 68,
   "metadata": {
    "collapsed": true
   },
   "outputs": [],
   "source": [
    "g = nx.read_edgelist(\"max_wcc_graph.edgelist\", \n",
    "                     delimiter=\"\\t\", \n",
    "                     create_using  = nx.DiGraph(), \n",
    "                     data=True)"
   ]
  },
  {
   "cell_type": "code",
   "execution_count": 69,
   "metadata": {
    "collapsed": false
   },
   "outputs": [
    {
     "data": {
      "text/plain": [
       "0"
      ]
     },
     "execution_count": 69,
     "metadata": {},
     "output_type": "execute_result"
    }
   ],
   "source": [
    "num_nodes = len(g.nodes())\n",
    "no_in_degree = len(filter(lambda x: x != 0, g.in_degree().values()))\n",
    "no_out_degree = len(filter(lambda x: x != 0, g.out_degree().values()))\n",
    "num_nodes - no_in_degree - no_out_degree"
   ]
  },
  {
   "cell_type": "code",
   "execution_count": 17,
   "metadata": {
    "collapsed": false
   },
   "outputs": [],
   "source": [
    "degree_hist = nx.degree_histogram(g)\n",
    "plt.plot(range(1, len(degree_hist)), degree_hist[1:])\n",
    "plt.show()\n",
    "20781\n",
    "34013"
   ]
  },
  {
   "cell_type": "code",
   "execution_count": 70,
   "metadata": {
    "collapsed": false
   },
   "outputs": [
    {
     "data": {
      "text/plain": [
       "Counter({0: 34101,\n",
       "         1: 12042,\n",
       "         2: 2929,\n",
       "         3: 1316,\n",
       "         4: 788,\n",
       "         5: 521,\n",
       "         6: 414,\n",
       "         7: 336,\n",
       "         8: 243,\n",
       "         9: 198,\n",
       "         10: 195,\n",
       "         11: 151,\n",
       "         12: 113,\n",
       "         13: 99,\n",
       "         14: 103,\n",
       "         15: 100,\n",
       "         16: 84,\n",
       "         17: 81,\n",
       "         18: 66,\n",
       "         19: 48,\n",
       "         20: 68,\n",
       "         21: 51,\n",
       "         22: 54,\n",
       "         23: 37,\n",
       "         24: 33,\n",
       "         25: 34,\n",
       "         26: 43,\n",
       "         27: 32,\n",
       "         28: 27,\n",
       "         29: 17,\n",
       "         30: 20,\n",
       "         31: 30,\n",
       "         32: 24,\n",
       "         33: 25,\n",
       "         34: 20,\n",
       "         35: 23,\n",
       "         36: 24,\n",
       "         37: 16,\n",
       "         38: 16,\n",
       "         39: 19,\n",
       "         40: 10,\n",
       "         41: 14,\n",
       "         42: 20,\n",
       "         43: 13,\n",
       "         44: 6,\n",
       "         45: 11,\n",
       "         46: 14,\n",
       "         47: 15,\n",
       "         48: 10,\n",
       "         49: 14,\n",
       "         50: 7,\n",
       "         51: 11,\n",
       "         52: 5,\n",
       "         53: 7,\n",
       "         54: 5,\n",
       "         55: 4,\n",
       "         56: 7,\n",
       "         57: 7,\n",
       "         58: 11,\n",
       "         59: 5,\n",
       "         60: 5,\n",
       "         61: 4,\n",
       "         62: 9,\n",
       "         63: 3,\n",
       "         64: 5,\n",
       "         65: 9,\n",
       "         66: 5,\n",
       "         67: 5,\n",
       "         68: 1,\n",
       "         69: 6,\n",
       "         71: 2,\n",
       "         72: 6,\n",
       "         73: 3,\n",
       "         74: 8,\n",
       "         75: 1,\n",
       "         76: 2,\n",
       "         78: 4,\n",
       "         79: 5,\n",
       "         81: 5,\n",
       "         82: 6,\n",
       "         83: 6,\n",
       "         84: 4,\n",
       "         85: 3,\n",
       "         86: 2,\n",
       "         87: 2,\n",
       "         89: 4,\n",
       "         90: 1,\n",
       "         92: 1,\n",
       "         94: 1,\n",
       "         96: 1,\n",
       "         97: 1,\n",
       "         99: 2,\n",
       "         101: 3,\n",
       "         102: 1,\n",
       "         104: 1,\n",
       "         105: 1,\n",
       "         106: 4,\n",
       "         109: 1,\n",
       "         110: 1,\n",
       "         111: 1,\n",
       "         112: 3,\n",
       "         114: 2,\n",
       "         115: 3,\n",
       "         116: 1,\n",
       "         118: 1,\n",
       "         119: 1,\n",
       "         120: 2,\n",
       "         121: 2,\n",
       "         123: 3,\n",
       "         125: 1,\n",
       "         129: 2,\n",
       "         132: 1,\n",
       "         133: 2,\n",
       "         135: 1,\n",
       "         136: 1,\n",
       "         138: 1,\n",
       "         139: 1,\n",
       "         140: 1,\n",
       "         144: 1,\n",
       "         147: 1,\n",
       "         151: 2,\n",
       "         152: 2,\n",
       "         154: 1,\n",
       "         155: 2,\n",
       "         156: 1,\n",
       "         157: 1,\n",
       "         162: 1,\n",
       "         163: 1,\n",
       "         165: 2,\n",
       "         167: 2,\n",
       "         169: 2,\n",
       "         170: 1,\n",
       "         172: 1,\n",
       "         175: 1,\n",
       "         179: 2,\n",
       "         180: 1,\n",
       "         182: 2,\n",
       "         192: 1,\n",
       "         194: 2,\n",
       "         196: 1,\n",
       "         208: 1,\n",
       "         209: 1,\n",
       "         218: 1,\n",
       "         219: 1,\n",
       "         224: 1,\n",
       "         233: 1,\n",
       "         235: 1,\n",
       "         257: 1,\n",
       "         258: 1,\n",
       "         260: 2,\n",
       "         275: 1,\n",
       "         280: 1,\n",
       "         297: 1,\n",
       "         306: 1,\n",
       "         322: 1,\n",
       "         367: 1,\n",
       "         394: 1,\n",
       "         438: 1,\n",
       "         456: 1,\n",
       "         461: 1,\n",
       "         501: 1,\n",
       "         524: 1,\n",
       "         532: 1,\n",
       "         690: 1,\n",
       "         698: 1,\n",
       "         746: 1})"
      ]
     },
     "execution_count": 70,
     "metadata": {},
     "output_type": "execute_result"
    }
   ],
   "source": [
    "Counter(g.out_degree().values())"
   ]
  },
  {
   "cell_type": "code",
   "execution_count": 30,
   "metadata": {
    "collapsed": false
   },
   "outputs": [
    {
     "data": {
      "text/plain": [
       "54794"
      ]
     },
     "execution_count": 30,
     "metadata": {},
     "output_type": "execute_result"
    }
   ],
   "source": [
    "20781+34013"
   ]
  },
  {
   "cell_type": "code",
   "execution_count": 73,
   "metadata": {
    "collapsed": false
   },
   "outputs": [],
   "source": [
    "in_d = g.in_degree()\n",
    "out_d = g.out_degree()\n",
    "in_d_problem = []\n",
    "out_d_problem = []\n",
    "for node in g.nodes_iter():\n",
    "    if in_d[node] != 0 and out_d[node] != 0:\n",
    "        if in_d[node] > out_d[node]:\n",
    "            in_d_problem += [node]\n",
    "        else:\n",
    "            out_d_problem += [node]\n"
   ]
  },
  {
   "cell_type": "code",
   "execution_count": 74,
   "metadata": {
    "collapsed": false
   },
   "outputs": [
    {
     "data": {
      "text/plain": [
       "[]"
      ]
     },
     "execution_count": 74,
     "metadata": {},
     "output_type": "execute_result"
    }
   ],
   "source": [
    "map(lambda x: (x, in_d[x], out_d[x]),in_d_problem)"
   ]
  },
  {
   "cell_type": "code",
   "execution_count": 75,
   "metadata": {
    "collapsed": false
   },
   "outputs": [
    {
     "data": {
      "text/plain": [
       "[]"
      ]
     },
     "execution_count": 75,
     "metadata": {},
     "output_type": "execute_result"
    }
   ],
   "source": [
    "map(lambda x: (x, in_d[x], out_d[x]),out_d_problem)"
   ]
  },
  {
   "cell_type": "code",
   "execution_count": 80,
   "metadata": {
    "collapsed": false
   },
   "outputs": [
    {
     "data": {
      "text/plain": [
       "0"
      ]
     },
     "execution_count": 80,
     "metadata": {},
     "output_type": "execute_result"
    }
   ],
   "source": [
    "in_d[u\"/organization/alibaba\"]"
   ]
  },
  {
   "cell_type": "code",
   "execution_count": 81,
   "metadata": {
    "collapsed": false
   },
   "outputs": [
    {
     "data": {
      "text/plain": [
       "54959"
      ]
     },
     "execution_count": 81,
     "metadata": {},
     "output_type": "execute_result"
    }
   ],
   "source": [
    "len(g.nodes())"
   ]
  }
 ],
 "metadata": {
  "kernelspec": {
   "display_name": "Python 2",
   "language": "python",
   "name": "python2"
  },
  "language_info": {
   "codemirror_mode": {
    "name": "ipython",
    "version": 2
   },
   "file_extension": ".py",
   "mimetype": "text/x-python",
   "name": "python",
   "nbconvert_exporter": "python",
   "pygments_lexer": "ipython2",
   "version": "2.7.10"
  }
 },
 "nbformat": 4,
 "nbformat_minor": 0
}
