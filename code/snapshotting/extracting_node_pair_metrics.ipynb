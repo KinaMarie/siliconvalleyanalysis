{
 "cells": [
  {
   "cell_type": "code",
   "execution_count": 2,
   "metadata": {
    "collapsed": false
   },
   "outputs": [
    {
     "name": "stderr",
     "output_type": "stream",
     "text": [
      "/Users/yishh/anaconda/lib/python2.7/site-packages/matplotlib/__init__.py:872: UserWarning: axes.color_cycle is deprecated and replaced with axes.prop_cycle; please use the latter.\n",
      "  warnings.warn(self.msg_depr % (key, alt_key))\n"
     ]
    }
   ],
   "source": [
    "import pandas as pd\n",
    "import datetime as dt\n",
    "import networkx as nx\n",
    "import matplotlib.pyplot as plt\n",
    "import seaborn as sns\n",
    "from collections import Counter\n",
    "import operator\n",
    "import numpy as np"
   ]
  },
  {
   "cell_type": "code",
   "execution_count": 2,
   "metadata": {
    "collapsed": false
   },
   "outputs": [],
   "source": [
    "G = nx.read_edgelist(\"../0_cleaning/max_wcc_graph.edgelist\", create_using=nx.DiGraph(), delimiter=\"\\t\", data=True)"
   ]
  },
  {
   "cell_type": "code",
   "execution_count": null,
   "metadata": {
    "collapsed": false
   },
   "outputs": [],
   "source": [
    "# post_2005_edges = pd.read_csv(\"../0_cleaning/max_wcc_graph.edgelist\", low_memory=False)"
   ]
  },
  {
   "cell_type": "code",
   "execution_count": 40,
   "metadata": {
    "collapsed": false
   },
   "outputs": [],
   "source": [
    "dates = nx.get_edge_attributes(G, 'date')\n",
    "# weights = nx.get_edge_attributes(G, 'weight')\n",
    "\n",
    "flat_table = map(lambda x: [x[0], x[1], dates[x]] , dates)\n",
    "wcc_df = pd.DataFrame(flat_table)\n",
    "wcc_df.columns = [\"investor\", \"company\", \"invest_date\"]\n",
    "wcc_df[\"invest_date\"].apply(pd.to_datetime)\n",
    "post_2005_edges = wcc_df\n",
    "post_2005_edges[\"invest_date\"] = post_2005_edges[\"invest_date\"].apply(pd.to_datetime)\n",
    "post_2005_edges = post_2005_edges.sort_values(['invest_date'])"
   ]
  },
  {
   "cell_type": "code",
   "execution_count": 42,
   "metadata": {
    "collapsed": false
   },
   "outputs": [
    {
     "name": "stdout",
     "output_type": "stream",
     "text": [
      "DatetimeIndex(['2005-01-31', '2005-02-28', '2005-03-31', '2005-04-30',\n",
      "               '2005-05-31', '2005-06-30', '2005-07-31', '2005-08-31',\n",
      "               '2005-09-30', '2005-10-31',\n",
      "               ...\n",
      "               '2015-03-31', '2015-04-30', '2015-05-31', '2015-06-30',\n",
      "               '2015-07-31', '2015-08-31', '2015-09-30', '2015-10-31',\n",
      "               '2015-11-30', '2015-12-31'],\n",
      "              dtype='datetime64[ns]', length=132, freq='M')\n"
     ]
    }
   ],
   "source": [
    "total_periods = 132\n",
    "rng = pd.date_range('1/1/2005', periods= total_periods, freq='M')\n",
    "months_per_period = 3\n",
    "print rng\n",
    "for i in range(1,total_periods/months_per_period):\n",
    "    period = i * months_per_period\n",
    "    curr_rng = rng[:period]\n",
    "    curr_start = curr_rng[0]\n",
    "    curr_end = curr_rng[-1]\n",
    "    mask = (post_2005_edges['invest_date'] >= curr_start) & (post_2005_edges['invest_date'] <= curr_end)\n",
    "    period_snapshot = post_2005_edges[mask]\n",
    "    rtn_string = curr_end.strftime('%Y%m%d')\n",
    "    file_name = \"../../df_wccsnapshots/cumulative/enddate\" + rtn_string[:10] + \".csv\"\n",
    "#     file_name = file_name.encode('utf-8').strip().replace(\"-\",\"\")\n",
    "    period_snapshot.to_csv(file_name, index='false', encoding='utf-8')"
   ]
  },
  {
   "cell_type": "code",
   "execution_count": 44,
   "metadata": {
    "collapsed": false,
    "scrolled": true
   },
   "outputs": [
    {
     "name": "stdout",
     "output_type": "stream",
     "text": [
      "DatetimeIndex(['2005-01-31', '2005-02-28', '2005-03-31', '2005-04-30',\n",
      "               '2005-05-31', '2005-06-30', '2005-07-31', '2005-08-31',\n",
      "               '2005-09-30', '2005-10-31',\n",
      "               ...\n",
      "               '2015-03-31', '2015-04-30', '2015-05-31', '2015-06-30',\n",
      "               '2015-07-31', '2015-08-31', '2015-09-30', '2015-10-31',\n",
      "               '2015-11-30', '2015-12-31'],\n",
      "              dtype='datetime64[ns]', length=132, freq='M')\n"
     ]
    }
   ],
   "source": [
    "total_periods = 132\n",
    "rng = pd.date_range('1/1/2005', periods= total_periods, freq='M')\n",
    "months_per_period = 3\n",
    "print rng\n",
    "for i in range(1,total_periods/months_per_period):\n",
    "    period = i * months_per_period\n",
    "    curr_rng = rng[period - months_per_period:period]\n",
    "    curr_start = curr_rng[0]\n",
    "    curr_end = curr_rng[-1]\n",
    "    mask = (post_2005_edges['invest_date'] >= curr_start) & (post_2005_edges['invest_date'] <= curr_end)\n",
    "    period_snapshot = post_2005_edges[mask]\n",
    "    rtn_string = curr_end.strftime('%Y%m%d')\n",
    "    file_name = \"../../df_wccsnapshots/diff/enddate\" + rtn_string[:10] + \".csv\"\n",
    "#     file_name = file_name.encode('utf-8').strip().replace(\"-\",\"\")\n",
    "    period_snapshot.to_csv(file_name, index='false', encoding='utf-8')"
   ]
  },
  {
   "cell_type": "code",
   "execution_count": null,
   "metadata": {
    "collapsed": true
   },
   "outputs": [],
   "source": []
  },
  {
   "cell_type": "code",
   "execution_count": null,
   "metadata": {
    "collapsed": true
   },
   "outputs": [],
   "source": []
  },
  {
   "cell_type": "code",
   "execution_count": 15,
   "metadata": {
    "collapsed": false,
    "scrolled": true
   },
   "outputs": [
    {
     "name": "stdout",
     "output_type": "stream",
     "text": [
      "DatetimeIndex(['2005-01-31', '2005-02-28', '2005-03-31', '2005-04-30',\n",
      "               '2005-05-31', '2005-06-30', '2005-07-31', '2005-08-31',\n",
      "               '2005-09-30', '2005-10-31',\n",
      "               ...\n",
      "               '2015-03-31', '2015-04-30', '2015-05-31', '2015-06-30',\n",
      "               '2015-07-31', '2015-08-31', '2015-09-30', '2015-10-31',\n",
      "               '2015-11-30', '2015-12-31'],\n",
      "              dtype='datetime64[ns]', length=132, freq='M')\n"
     ]
    }
   ],
   "source": [
    "#create graph edge lists from the csv's generated above.\n",
    "\n",
    "def customGraphGenerator(filename, attribute_key):\n",
    "    g = nx.DiGraph()\n",
    "    \n",
    "    with open(filename, 'r') as f:\n",
    "        for line in f.readlines():\n",
    "            \n",
    "            # Parse Line\n",
    "            edge = line.strip().split(\",\")\n",
    "            \n",
    "            # Create Attributes\n",
    "            attributes = dict(zip(attribute_key, edge[2:]))\n",
    "            \n",
    "            # Add Edge\n",
    "            g.add_edge(edge[0], edge[1], attr_dict=attributes)\n",
    "\n",
    "    return g\n",
    "\n",
    "total_periods = 132\n",
    "rng = pd.date_range('1/1/2005', periods= total_periods, freq='M')\n",
    "months_per_period = 3\n",
    "print rng\n",
    "for i in range(1,total_periods/months_per_period):\n",
    "    period = i * months_per_period\n",
    "    curr_rng = rng[:period]\n",
    "    curr_start = curr_rng[0]\n",
    "    curr_end = curr_rng[-1]\n",
    "    rtn_string = curr_end.strftime('%Y%m%d')\n",
    "    input_file_name = \"../../df_wccsnapshots/cumulative/enddate\" + rtn_string[:10] + \".csv\"\n",
    "    output_file_name = \"../../graph_edgelist_wccsnapshots/cumulative/enddate\" + rtn_string[:10] + \".csv\"\n",
    "\n",
    "    attributes = [\"weight\", \"date\"] # All additiona attributes, order matters\n",
    "    \n",
    "    \n",
    "    g = customGraphGenerator(input_file_name, attribute_key = attributes)\n",
    "\n",
    "    # Write the edge to a NetworkX format; delimiter='\\t'\n",
    "    nx.write_edgelist(g, output_file_name, delimiter=\"\\t\", data=True)\n",
    "\n",
    "    break\n"
   ]
  },
  {
   "cell_type": "code",
   "execution_count": null,
   "metadata": {
    "collapsed": true
   },
   "outputs": [],
   "source": [
    "#create graph edge lists from the csv's generated above for the differences\n",
    "\n",
    "def customGraphGenerator(filename, attribute_key):\n",
    "    g = nx.DiGraph()\n",
    "    \n",
    "    with open(filename, 'r') as f:\n",
    "        for line in f.readlines():\n",
    "            \n",
    "            # Parse Line\n",
    "            edge = line.strip().split(\",\")\n",
    "            \n",
    "            # Create Attributes\n",
    "            attributes = dict(zip(attribute_key, edge[2:]))\n",
    "            \n",
    "            # Add Edge\n",
    "            g.add_edge(edge[0], edge[1], attr_dict=attributes)\n",
    "\n",
    "    return g\n",
    "\n",
    "total_periods = 132\n",
    "rng = pd.date_range('1/1/2005', periods= total_periods, freq='M')\n",
    "months_per_period = 3\n",
    "print rng\n",
    "for i in range(1,total_periods/months_per_period):\n",
    "    period = i * months_per_period\n",
    "    curr_rng = rng[:period]\n",
    "    curr_start = curr_rng[0]\n",
    "    curr_end = curr_rng[-1]\n",
    "    rtn_string = curr_end.strftime('%Y%m%d')\n",
    "    input_file_name = \"../../df_wccsnapshots/diff/enddate\" + rtn_string[:10] + \".csv\"\n",
    "    output_file_name = \"../../graph_edgelist_wccsnapshots/cumulative/enddate\" + rtn_string[:10] + \".csv\"\n",
    "\n",
    "    attributes = [\"weight\", \"date\"] # All additiona attributes, order matters\n",
    "    \n",
    "    \n",
    "    g = customGraphGenerator(input_file_name, attribute_key = attributes)\n",
    "\n",
    "    # Write the edge to a NetworkX format; delimiter='\\t'\n",
    "    nx.write_edgelist(g, output_file_name, delimiter=\"\\t\", data=True)\n",
    "\n",
    "    break\n"
   ]
  },
  {
   "cell_type": "code",
   "execution_count": 18,
   "metadata": {
    "collapsed": false
   },
   "outputs": [],
   "source": [
    "g1 = nx.read_edgelist(\"../../graph_edgelist_wccsnapshots/cumulative/enddate20050331.csv\", create_using=nx.DiGraph(), delimiter=\"\\t\", data=True)"
   ]
  },
  {
   "cell_type": "code",
   "execution_count": 20,
   "metadata": {
    "collapsed": false,
    "scrolled": true
   },
   "outputs": [
    {
     "data": {
      "text/plain": [
       "<networkx.classes.digraph.DiGraph at 0x1103ce810>"
      ]
     },
     "execution_count": 20,
     "metadata": {},
     "output_type": "execute_result"
    }
   ],
   "source": [
    "g1"
   ]
  },
  {
   "cell_type": "code",
   "execution_count": 22,
   "metadata": {
    "collapsed": false
   },
   "outputs": [
    {
     "data": {
      "text/plain": [
       "716"
      ]
     },
     "execution_count": 22,
     "metadata": {},
     "output_type": "execute_result"
    }
   ],
   "source": [
    "len(g1)"
   ]
  },
  {
   "cell_type": "code",
   "execution_count": 19,
   "metadata": {
    "collapsed": false
   },
   "outputs": [
    {
     "ename": "KeyError",
     "evalue": "0",
     "output_type": "error",
     "traceback": [
      "\u001b[0;31m---------------------------------------------------------------------------\u001b[0m",
      "\u001b[0;31mKeyError\u001b[0m                                  Traceback (most recent call last)",
      "\u001b[0;32m<ipython-input-19-4f0be6aa610b>\u001b[0m in \u001b[0;36m<module>\u001b[0;34m()\u001b[0m\n\u001b[1;32m      4\u001b[0m \u001b[0mall_path_lengths_sorted\u001b[0m \u001b[0;34m=\u001b[0m \u001b[0;34m[\u001b[0m\u001b[0;34m]\u001b[0m\u001b[0;34m\u001b[0m\u001b[0m\n\u001b[1;32m      5\u001b[0m \u001b[0;32mfor\u001b[0m \u001b[0mi\u001b[0m \u001b[0;32min\u001b[0m \u001b[0mrange\u001b[0m\u001b[0;34m(\u001b[0m\u001b[0mlen\u001b[0m\u001b[0;34m(\u001b[0m\u001b[0mall_path_lengths\u001b[0m\u001b[0;34m)\u001b[0m\u001b[0;34m)\u001b[0m\u001b[0;34m:\u001b[0m\u001b[0;34m\u001b[0m\u001b[0m\n\u001b[0;32m----> 6\u001b[0;31m     \u001b[0mp\u001b[0m \u001b[0;34m=\u001b[0m \u001b[0mall_path_lengths\u001b[0m\u001b[0;34m[\u001b[0m\u001b[0mi\u001b[0m\u001b[0;34m]\u001b[0m\u001b[0;34m\u001b[0m\u001b[0m\n\u001b[0m\u001b[1;32m      7\u001b[0m     \u001b[0mcurr_distances\u001b[0m \u001b[0;34m=\u001b[0m  \u001b[0msorted\u001b[0m\u001b[0;34m(\u001b[0m\u001b[0mlist\u001b[0m\u001b[0;34m(\u001b[0m\u001b[0mzip\u001b[0m\u001b[0;34m(\u001b[0m\u001b[0mp\u001b[0m\u001b[0;34m.\u001b[0m\u001b[0mkeys\u001b[0m\u001b[0;34m(\u001b[0m\u001b[0;34m)\u001b[0m\u001b[0;34m,\u001b[0m\u001b[0mp\u001b[0m\u001b[0;34m.\u001b[0m\u001b[0mvalues\u001b[0m\u001b[0;34m(\u001b[0m\u001b[0;34m)\u001b[0m\u001b[0;34m)\u001b[0m\u001b[0;34m)\u001b[0m\u001b[0;34m,\u001b[0m \u001b[0mkey\u001b[0m \u001b[0;34m=\u001b[0m \u001b[0;32mlambda\u001b[0m \u001b[0mx\u001b[0m\u001b[0;34m:\u001b[0m \u001b[0mx\u001b[0m\u001b[0;34m[\u001b[0m\u001b[0;36m1\u001b[0m\u001b[0;34m]\u001b[0m\u001b[0;34m,\u001b[0m \u001b[0mreverse\u001b[0m \u001b[0;34m=\u001b[0m \u001b[0mTrue\u001b[0m\u001b[0;34m)\u001b[0m\u001b[0;34m\u001b[0m\u001b[0m\n\u001b[1;32m      8\u001b[0m     \u001b[0mall_path_lengths_sorted\u001b[0m\u001b[0;34m.\u001b[0m\u001b[0mappend\u001b[0m\u001b[0;34m(\u001b[0m\u001b[0mcurr_distances\u001b[0m\u001b[0;34m)\u001b[0m\u001b[0;34m\u001b[0m\u001b[0m\n",
      "\u001b[0;31mKeyError\u001b[0m: 0"
     ]
    }
   ],
   "source": [
    "#calculate all shortest path lengths\n",
    "# G = nx.path_graph(5)\n",
    "all_path_lengths = nx.all_pairs_shortest_path_length(g1)\n",
    "all_path_lengths_sorted = []\n",
    "for i in range(len(all_path_lengths)):\n",
    "    p = all_path_lengths[i]\n",
    "    curr_distances =  sorted(list(zip(p.keys(),p.values())), key = lambda x: x[1], reverse = True)\n",
    "    all_path_lengths_sorted.append(curr_distances)\n",
    "    \n",
    "all_path_lengths_sorted"
   ]
  },
  {
   "cell_type": "code",
   "execution_count": null,
   "metadata": {
    "collapsed": false
   },
   "outputs": [],
   "source": [
    "#calculate number of paths between every other node\n",
    "# G = nx.path_graph(5)\n",
    "g_size = len(G)\n",
    "\n",
    "all_number_paths = np.zeros((g_size,g_size))\n",
    "\n",
    "for i in range(g_size):\n",
    "    for j in range(i,g_size):\n",
    "        if i == j:\n",
    "            continue\n",
    "        all_paths = nx.all_simple_paths(G, source=i, target=j)\n",
    "        num = len(list(all_paths))\n",
    "        all_number_paths[i,j] = num\n",
    "        all_number_paths[j,i] = num\n",
    "\n",
    "all_number_paths\n"
   ]
  },
  {
   "cell_type": "code",
   "execution_count": null,
   "metadata": {
    "collapsed": false
   },
   "outputs": [],
   "source": [
    "#calculate number of paths between every other node\n",
    "# G = nx.path_graph(5)\n",
    "g_size = len(G)\n",
    "\n",
    "all_number_paths = np.zeros((g_size,g_size))\n",
    "\n",
    "adamic_index = nx.adamic_adar_index(G)\n",
    "adamic_index_list = [p for p in adamic_index]\n",
    "adamic_index_list\n"
   ]
  },
  {
   "cell_type": "code",
   "execution_count": null,
   "metadata": {
    "collapsed": true
   },
   "outputs": [],
   "source": [
    "#once i have generated every graph\n",
    "#for each snapshot\n",
    "    #generate a graph\n",
    "    #for each graph\n",
    "        #get all shortest paths lengths\n",
    "        #get number paths between every node\n",
    "        #get adamic index\n",
    "        #store it properly\n",
    "        \n",
    "#random link predictor\n"
   ]
  },
  {
   "cell_type": "code",
   "execution_count": null,
   "metadata": {
    "collapsed": true
   },
   "outputs": [],
   "source": []
  }
 ],
 "metadata": {
  "kernelspec": {
   "display_name": "Python 2",
   "language": "python",
   "name": "python2"
  },
  "language_info": {
   "codemirror_mode": {
    "name": "ipython",
    "version": 2
   },
   "file_extension": ".py",
   "mimetype": "text/x-python",
   "name": "python",
   "nbconvert_exporter": "python",
   "pygments_lexer": "ipython2",
   "version": "2.7.10"
  }
 },
 "nbformat": 4,
 "nbformat_minor": 0
}
