{
 "cells": [
  {
   "cell_type": "code",
   "execution_count": 3,
   "metadata": {
    "collapsed": false
   },
   "outputs": [
    {
     "name": "stderr",
     "output_type": "stream",
     "text": [
      "/Users/yishh/anaconda/lib/python2.7/site-packages/matplotlib/__init__.py:872: UserWarning: axes.color_cycle is deprecated and replaced with axes.prop_cycle; please use the latter.\n",
      "  warnings.warn(self.msg_depr % (key, alt_key))\n"
     ]
    }
   ],
   "source": [
    "import pandas as pd\n",
    "import datetime as dt\n",
    "import networkx as nx\n",
    "import matplotlib.pyplot as plt\n",
    "import seaborn as sns\n",
    "from collections import Counter\n",
    "import operator\n",
    "import numpy as np"
   ]
  },
  {
   "cell_type": "code",
   "execution_count": 5,
   "metadata": {
    "collapsed": false
   },
   "outputs": [],
   "source": [
    "G = nx.read_edgelist(\"../0_cleaning/max_wcc_graph.edgelist\", create_using=nx.DiGraph(), delimiter=\"\\t\", data=True)"
   ]
  },
  {
   "cell_type": "code",
   "execution_count": 13,
   "metadata": {
    "collapsed": false
   },
   "outputs": [],
   "source": [
    "# post_2005_edges = pd.read_csv(\"../0_cleaning/max_wcc_graph.edgelist\", low_memory=False)"
   ]
  },
  {
   "cell_type": "code",
   "execution_count": 14,
   "metadata": {
    "collapsed": false
   },
   "outputs": [],
   "source": [
    "dates = nx.get_edge_attributes(G, 'date')\n",
    "# weights = nx.get_edge_attributes(G, 'weight')\n",
    "\n",
    "flat_table = map(lambda x: [x[0], x[1], dates[x]] , dates)\n",
    "wcc_df = pd.DataFrame(flat_table)\n",
    "wcc_df.columns = [\"investor\", \"company\", \"invest_date\"]\n",
    "\n",
    "post_2005_edges = wcc_df"
   ]
  },
  {
   "cell_type": "code",
   "execution_count": 82,
   "metadata": {
    "collapsed": false
   },
   "outputs": [
    {
     "ename": "NameError",
     "evalue": "name 'post_2005_edges' is not defined",
     "output_type": "error",
     "traceback": [
      "\u001b[0;31m---------------------------------------------------------------------------\u001b[0m",
      "\u001b[0;31mNameError\u001b[0m                                 Traceback (most recent call last)",
      "\u001b[0;32m<ipython-input-82-5e2a7d2a69b6>\u001b[0m in \u001b[0;36m<module>\u001b[0;34m()\u001b[0m\n\u001b[0;32m----> 1\u001b[0;31m \u001b[0mpost_2005_edges\u001b[0m \u001b[0;34m=\u001b[0m \u001b[0mpost_2005_edges\u001b[0m\u001b[0;34m\u001b[0m\u001b[0m\n\u001b[0m\u001b[1;32m      2\u001b[0m \u001b[0mtotal_periods\u001b[0m \u001b[0;34m=\u001b[0m \u001b[0;36m132\u001b[0m\u001b[0;34m\u001b[0m\u001b[0m\n\u001b[1;32m      3\u001b[0m \u001b[0mrng\u001b[0m \u001b[0;34m=\u001b[0m \u001b[0mpd\u001b[0m\u001b[0;34m.\u001b[0m\u001b[0mdate_range\u001b[0m\u001b[0;34m(\u001b[0m\u001b[0;34m'1/1/2005'\u001b[0m\u001b[0;34m,\u001b[0m \u001b[0mperiods\u001b[0m\u001b[0;34m=\u001b[0m \u001b[0mtotal_periods\u001b[0m\u001b[0;34m,\u001b[0m \u001b[0mfreq\u001b[0m\u001b[0;34m=\u001b[0m\u001b[0;34m'M'\u001b[0m\u001b[0;34m)\u001b[0m\u001b[0;34m\u001b[0m\u001b[0m\n\u001b[1;32m      4\u001b[0m \u001b[0mmonths_per_period\u001b[0m \u001b[0;34m=\u001b[0m \u001b[0;36m3\u001b[0m\u001b[0;34m\u001b[0m\u001b[0m\n\u001b[1;32m      5\u001b[0m \u001b[0;32mfor\u001b[0m \u001b[0mi\u001b[0m \u001b[0;32min\u001b[0m \u001b[0mrange\u001b[0m\u001b[0;34m(\u001b[0m\u001b[0;36m1\u001b[0m\u001b[0;34m,\u001b[0m\u001b[0mtotal_periods\u001b[0m\u001b[0;34m/\u001b[0m\u001b[0mmonths_per_period\u001b[0m\u001b[0;34m)\u001b[0m\u001b[0;34m:\u001b[0m\u001b[0;34m\u001b[0m\u001b[0m\n",
      "\u001b[0;31mNameError\u001b[0m: name 'post_2005_edges' is not defined"
     ]
    }
   ],
   "source": [
    "total_periods = 132\n",
    "rng = pd.date_range('1/1/2005', periods= total_periods, freq='M')\n",
    "months_per_period = 3\n",
    "for i in range(1,total_periods/months_per_period):\n",
    "    period = i * months_per_period\n",
    "    curr_rng = rng[:period]\n",
    "    curr_start = curr_rng[0]\n",
    "    curr_end = curr_rng[-1]\n",
    "#     print curr_rng \n",
    "#     print curr_start, curr_end\n",
    "    \n",
    "    # post_2005_edges \n",
    "    mask = (post_2005_edges['invest_date'] >= curr_start) & (post_2005_edges['invest_date'] <= curr_end)\n",
    "    period_snapshot = post_2005_edges[mask]\n",
    "    file_name = \"cumulative_snapshots/enddate_\" + str(curr_end)[:10] + \".csv\"\n",
    "#     print file_name\n",
    "    period_snapshot.to_csv(file_name, index='false')\n",
    "#     if i ==3:\n",
    "#         break\n"
   ]
  },
  {
   "cell_type": "code",
   "execution_count": null,
   "metadata": {
    "collapsed": true
   },
   "outputs": [],
   "source": [
    "total_periods = 132\n",
    "rng = pd.date_range('1/1/2005', periods= total_periods, freq='M')\n",
    "months_per_period = 3\n",
    "for i in range(1,total_periods/months_per_period):\n",
    "    period = i * months_per_period\n",
    "    curr_rng = rng[:period]\n",
    "    curr_start = curr_rng[0]\n",
    "    curr_end = curr_rng[-1]\n",
    "#     print curr_rng \n",
    "#     print curr_start, curr_end\n",
    "    \n",
    "    # post_2005_edges \n",
    "    mask = (post_2005_edges['invest_date'] >= curr_start) & (post_2005_edges['funded_at'] <= curr_end)\n",
    "    period_snapshot = post_2005_edges[mask]\n",
    "    file_name = \"cumulative_snapshots/enddate_\" + str(curr_end)[:10] + \".csv\"\n",
    "#     print file_name\n",
    "    period_snapshot.to_csv(file_name, index='false')\n",
    "#     if i ==3:\n",
    "#         break\n"
   ]
  },
  {
   "cell_type": "code",
   "execution_count": 85,
   "metadata": {
    "collapsed": false
   },
   "outputs": [
    {
     "data": {
      "text/plain": [
       "[[(4, 4), (3, 3), (2, 2), (1, 1), (0, 0)],\n",
       " [(4, 3), (3, 2), (0, 1), (2, 1), (1, 0)],\n",
       " [(0, 2), (4, 2), (1, 1), (3, 1), (2, 0)],\n",
       " [(0, 3), (1, 2), (2, 1), (4, 1), (3, 0)],\n",
       " [(0, 4), (1, 3), (2, 2), (3, 1), (4, 0)]]"
      ]
     },
     "execution_count": 85,
     "metadata": {},
     "output_type": "execute_result"
    }
   ],
   "source": [
    "#calculate all shortest path lengths\n",
    "# G = nx.path_graph(5)\n",
    "all_path_lengths = nx.all_pairs_shortest_path_length(G)\n",
    "all_path_lengths_sorted = []\n",
    "for i in range(len(all_path_lengths)):\n",
    "    p = all_path_lengths[i]\n",
    "    curr_distances =  sorted(list(zip(p.keys(),p.values())), key = lambda x: x[1], reverse = True)\n",
    "    all_path_lengths_sorted.append(curr_distances)\n",
    "    \n",
    "all_path_lengths_sorted"
   ]
  },
  {
   "cell_type": "code",
   "execution_count": 86,
   "metadata": {
    "collapsed": false
   },
   "outputs": [
    {
     "data": {
      "text/plain": [
       "array([[ 0.,  1.,  1.,  1.,  1.],\n",
       "       [ 1.,  0.,  1.,  1.,  1.],\n",
       "       [ 1.,  1.,  0.,  1.,  1.],\n",
       "       [ 1.,  1.,  1.,  0.,  1.],\n",
       "       [ 1.,  1.,  1.,  1.,  0.]])"
      ]
     },
     "execution_count": 86,
     "metadata": {},
     "output_type": "execute_result"
    }
   ],
   "source": [
    "#calculate number of paths between every other node\n",
    "# G = nx.path_graph(5)\n",
    "g_size = len(G)\n",
    "\n",
    "all_number_paths = np.zeros((g_size,g_size))\n",
    "\n",
    "for i in range(g_size):\n",
    "    for j in range(i,g_size):\n",
    "        if i == j:\n",
    "            continue\n",
    "        all_paths = nx.all_simple_paths(G, source=i, target=j)\n",
    "        num = len(list(all_paths))\n",
    "        all_number_paths[i,j] = num\n",
    "        all_number_paths[j,i] = num\n",
    "\n",
    "all_number_paths\n"
   ]
  },
  {
   "cell_type": "code",
   "execution_count": 89,
   "metadata": {
    "collapsed": false
   },
   "outputs": [
    {
     "data": {
      "text/plain": [
       "[(0, 2, 1.4426950408889634),\n",
       " (0, 3, 0),\n",
       " (0, 4, 0),\n",
       " (1, 3, 1.4426950408889634),\n",
       " (1, 4, 0),\n",
       " (2, 4, 1.4426950408889634)]"
      ]
     },
     "execution_count": 89,
     "metadata": {},
     "output_type": "execute_result"
    }
   ],
   "source": [
    "#calculate number of paths between every other node\n",
    "# G = nx.path_graph(5)\n",
    "g_size = len(G)\n",
    "\n",
    "all_number_paths = np.zeros((g_size,g_size))\n",
    "\n",
    "adamic_index = nx.adamic_adar_index(G)\n",
    "adamic_index_list = [p for p in adamic_index]\n",
    "adamic_index_list\n"
   ]
  },
  {
   "cell_type": "code",
   "execution_count": 91,
   "metadata": {
    "collapsed": true
   },
   "outputs": [],
   "source": [
    "#once i have generated every graph\n",
    "#for each snapshot\n",
    "    #generate a graph\n",
    "    #for each graph\n",
    "        #get all shortest paths lengths\n",
    "        #get number paths between every node\n",
    "        #get adamic index\n",
    "        #store it properly\n",
    "        \n",
    "#random link predictor\n"
   ]
  },
  {
   "cell_type": "code",
   "execution_count": 8,
   "metadata": {
    "collapsed": false
   },
   "outputs": [
    {
     "data": {
      "text/plain": [
       "<networkx.classes.digraph.DiGraph at 0x10fa89690>"
      ]
     },
     "execution_count": 8,
     "metadata": {},
     "output_type": "execute_result"
    }
   ],
   "source": [
    "G"
   ]
  },
  {
   "cell_type": "code",
   "execution_count": null,
   "metadata": {
    "collapsed": false
   },
   "outputs": [],
   "source": [
    "post_2005_edges"
   ]
  },
  {
   "cell_type": "code",
   "execution_count": null,
   "metadata": {
    "collapsed": true
   },
   "outputs": [],
   "source": []
  }
 ],
 "metadata": {
  "kernelspec": {
   "display_name": "Python 2",
   "language": "python",
   "name": "python2"
  },
  "language_info": {
   "codemirror_mode": {
    "name": "ipython",
    "version": 2
   },
   "file_extension": ".py",
   "mimetype": "text/x-python",
   "name": "python",
   "nbconvert_exporter": "python",
   "pygments_lexer": "ipython2",
   "version": "2.7.10"
  }
 },
 "nbformat": 4,
 "nbformat_minor": 0
}
