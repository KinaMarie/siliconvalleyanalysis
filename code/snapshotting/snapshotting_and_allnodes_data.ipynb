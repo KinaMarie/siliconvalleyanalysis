{
 "cells": [
  {
   "cell_type": "code",
   "execution_count": 1,
   "metadata": {
    "collapsed": false
   },
   "outputs": [
    {
     "name": "stderr",
     "output_type": "stream",
     "text": [
      "/Users/yishh/anaconda/lib/python2.7/site-packages/matplotlib/__init__.py:872: UserWarning: axes.color_cycle is deprecated and replaced with axes.prop_cycle; please use the latter.\n",
      "  warnings.warn(self.msg_depr % (key, alt_key))\n"
     ]
    }
   ],
   "source": [
    "import pandas as pd\n",
    "import datetime as dt\n",
    "import networkx as nx\n",
    "import matplotlib.pyplot as plt\n",
    "import seaborn as sns\n",
    "from collections import Counter\n",
    "import operator\n",
    "import numpy as np"
   ]
  },
  {
   "cell_type": "code",
   "execution_count": 2,
   "metadata": {
    "collapsed": false
   },
   "outputs": [],
   "source": [
    "G = nx.read_edgelist(\"../0_cleaning/max_wcc_graph.edgelist\", create_using=nx.DiGraph(), delimiter=\"\\t\", data=True)"
   ]
  },
  {
   "cell_type": "code",
   "execution_count": null,
   "metadata": {
    "collapsed": false
   },
   "outputs": [],
   "source": [
    "# post_2005_edges = pd.read_csv(\"../0_cleaning/max_wcc_graph.edgelist\", low_memory=False)"
   ]
  },
  {
   "cell_type": "code",
   "execution_count": 5,
   "metadata": {
    "collapsed": false
   },
   "outputs": [],
   "source": [
    "dates = nx.get_edge_attributes(G, 'date')\n",
    "# weights = nx.get_edge_attributes(G, 'weight')\n",
    "\n",
    "flat_table = map(lambda x: [x[0], x[1], dates[x]] , dates)\n",
    "wcc_df = pd.DataFrame(flat_table)\n",
    "wcc_df.columns = [\"investor\", \"company\", \"invest_date\"]\n",
    "wcc_df[\"invest_date\"].apply(pd.to_datetime)\n",
    "post_2005_edges = wcc_df\n",
    "post_2005_edges[\"invest_date\"] = post_2005_edges[\"invest_date\"].apply(pd.to_datetime)"
   ]
  },
  {
   "cell_type": "code",
   "execution_count": 23,
   "metadata": {
    "collapsed": false
   },
   "outputs": [
    {
     "name": "stdout",
     "output_type": "stream",
     "text": [
      "../../unweightedwccsnapshots/cumulative/enddate20050331.csv\n",
      "2005-03-31 00:00:00\n",
      "../../unweightedwccsnapshots/cumulative/enddate20050630.csv\n",
      "2005-06-30 00:00:00\n",
      "../../unweightedwccsnapshots/cumulative/enddate20050930.csv\n",
      "2005-09-30 00:00:00\n",
      "../../unweightedwccsnapshots/cumulative/enddate20051231.csv\n",
      "2005-12-31 00:00:00\n",
      "../../unweightedwccsnapshots/cumulative/enddate20060331.csv\n",
      "2006-03-31 00:00:00\n"
     ]
    },
    {
     "ename": "UnicodeEncodeError",
     "evalue": "'ascii' codec can't encode characters in position 20-21: ordinal not in range(128)",
     "output_type": "error",
     "traceback": [
      "\u001b[0;31m---------------------------------------------------------------------------\u001b[0m",
      "\u001b[0;31mUnicodeEncodeError\u001b[0m                        Traceback (most recent call last)",
      "\u001b[0;32m<ipython-input-23-486db104402c>\u001b[0m in \u001b[0;36m<module>\u001b[0;34m()\u001b[0m\n\u001b[1;32m     17\u001b[0m     \u001b[0;32mprint\u001b[0m \u001b[0mfile_name\u001b[0m\u001b[0;34m\u001b[0m\u001b[0m\n\u001b[1;32m     18\u001b[0m     \u001b[0;32mprint\u001b[0m \u001b[0mcurr_end\u001b[0m\u001b[0;34m\u001b[0m\u001b[0m\n\u001b[0;32m---> 19\u001b[0;31m     \u001b[0mperiod_snapshot\u001b[0m\u001b[0;34m.\u001b[0m\u001b[0mto_csv\u001b[0m\u001b[0;34m(\u001b[0m\u001b[0;34m\"hi\"\u001b[0m\u001b[0;34m,\u001b[0m \u001b[0mindex\u001b[0m\u001b[0;34m=\u001b[0m\u001b[0;34m'false'\u001b[0m\u001b[0;34m)\u001b[0m\u001b[0;34m\u001b[0m\u001b[0m\n\u001b[0m",
      "\u001b[0;32m/Users/yishh/anaconda/lib/python2.7/site-packages/pandas/core/frame.pyc\u001b[0m in \u001b[0;36mto_csv\u001b[0;34m(self, path_or_buf, sep, na_rep, float_format, columns, header, index, index_label, mode, encoding, quoting, quotechar, line_terminator, chunksize, tupleize_cols, date_format, doublequote, escapechar, decimal, **kwds)\u001b[0m\n\u001b[1;32m   1287\u001b[0m                                      \u001b[0mescapechar\u001b[0m\u001b[0;34m=\u001b[0m\u001b[0mescapechar\u001b[0m\u001b[0;34m,\u001b[0m\u001b[0;34m\u001b[0m\u001b[0m\n\u001b[1;32m   1288\u001b[0m                                      decimal=decimal)\n\u001b[0;32m-> 1289\u001b[0;31m         \u001b[0mformatter\u001b[0m\u001b[0;34m.\u001b[0m\u001b[0msave\u001b[0m\u001b[0;34m(\u001b[0m\u001b[0;34m)\u001b[0m\u001b[0;34m\u001b[0m\u001b[0m\n\u001b[0m\u001b[1;32m   1290\u001b[0m \u001b[0;34m\u001b[0m\u001b[0m\n\u001b[1;32m   1291\u001b[0m         \u001b[0;32mif\u001b[0m \u001b[0mpath_or_buf\u001b[0m \u001b[0;32mis\u001b[0m \u001b[0mNone\u001b[0m\u001b[0;34m:\u001b[0m\u001b[0;34m\u001b[0m\u001b[0m\n",
      "\u001b[0;32m/Users/yishh/anaconda/lib/python2.7/site-packages/pandas/core/format.pyc\u001b[0m in \u001b[0;36msave\u001b[0;34m(self)\u001b[0m\n\u001b[1;32m   1492\u001b[0m \u001b[0;34m\u001b[0m\u001b[0m\n\u001b[1;32m   1493\u001b[0m             \u001b[0;32melse\u001b[0m\u001b[0;34m:\u001b[0m\u001b[0;34m\u001b[0m\u001b[0m\n\u001b[0;32m-> 1494\u001b[0;31m                 \u001b[0mself\u001b[0m\u001b[0;34m.\u001b[0m\u001b[0m_save\u001b[0m\u001b[0;34m(\u001b[0m\u001b[0;34m)\u001b[0m\u001b[0;34m\u001b[0m\u001b[0m\n\u001b[0m\u001b[1;32m   1495\u001b[0m \u001b[0;34m\u001b[0m\u001b[0m\n\u001b[1;32m   1496\u001b[0m         \u001b[0;32mfinally\u001b[0m\u001b[0;34m:\u001b[0m\u001b[0;34m\u001b[0m\u001b[0m\n",
      "\u001b[0;32m/Users/yishh/anaconda/lib/python2.7/site-packages/pandas/core/format.pyc\u001b[0m in \u001b[0;36m_save\u001b[0;34m(self)\u001b[0m\n\u001b[1;32m   1592\u001b[0m                 \u001b[0;32mbreak\u001b[0m\u001b[0;34m\u001b[0m\u001b[0m\n\u001b[1;32m   1593\u001b[0m \u001b[0;34m\u001b[0m\u001b[0m\n\u001b[0;32m-> 1594\u001b[0;31m             \u001b[0mself\u001b[0m\u001b[0;34m.\u001b[0m\u001b[0m_save_chunk\u001b[0m\u001b[0;34m(\u001b[0m\u001b[0mstart_i\u001b[0m\u001b[0;34m,\u001b[0m \u001b[0mend_i\u001b[0m\u001b[0;34m)\u001b[0m\u001b[0;34m\u001b[0m\u001b[0m\n\u001b[0m\u001b[1;32m   1595\u001b[0m \u001b[0;34m\u001b[0m\u001b[0m\n\u001b[1;32m   1596\u001b[0m     \u001b[0;32mdef\u001b[0m \u001b[0m_save_chunk\u001b[0m\u001b[0;34m(\u001b[0m\u001b[0mself\u001b[0m\u001b[0;34m,\u001b[0m \u001b[0mstart_i\u001b[0m\u001b[0;34m,\u001b[0m \u001b[0mend_i\u001b[0m\u001b[0;34m)\u001b[0m\u001b[0;34m:\u001b[0m\u001b[0;34m\u001b[0m\u001b[0m\n",
      "\u001b[0;32m/Users/yishh/anaconda/lib/python2.7/site-packages/pandas/core/format.pyc\u001b[0m in \u001b[0;36m_save_chunk\u001b[0;34m(self, start_i, end_i)\u001b[0m\n\u001b[1;32m   1619\u001b[0m                                         quoting=self.quoting)\n\u001b[1;32m   1620\u001b[0m \u001b[0;34m\u001b[0m\u001b[0m\n\u001b[0;32m-> 1621\u001b[0;31m         \u001b[0mlib\u001b[0m\u001b[0;34m.\u001b[0m\u001b[0mwrite_csv_rows\u001b[0m\u001b[0;34m(\u001b[0m\u001b[0mself\u001b[0m\u001b[0;34m.\u001b[0m\u001b[0mdata\u001b[0m\u001b[0;34m,\u001b[0m \u001b[0mix\u001b[0m\u001b[0;34m,\u001b[0m \u001b[0mself\u001b[0m\u001b[0;34m.\u001b[0m\u001b[0mnlevels\u001b[0m\u001b[0;34m,\u001b[0m \u001b[0mself\u001b[0m\u001b[0;34m.\u001b[0m\u001b[0mcols\u001b[0m\u001b[0;34m,\u001b[0m \u001b[0mself\u001b[0m\u001b[0;34m.\u001b[0m\u001b[0mwriter\u001b[0m\u001b[0;34m)\u001b[0m\u001b[0;34m\u001b[0m\u001b[0m\n\u001b[0m\u001b[1;32m   1622\u001b[0m \u001b[0;34m\u001b[0m\u001b[0m\n\u001b[1;32m   1623\u001b[0m \u001b[0;31m# from collections import namedtuple\u001b[0m\u001b[0;34m\u001b[0m\u001b[0;34m\u001b[0m\u001b[0m\n",
      "\u001b[0;32mpandas/lib.pyx\u001b[0m in \u001b[0;36mpandas.lib.write_csv_rows (pandas/lib.c:19071)\u001b[0;34m()\u001b[0m\n",
      "\u001b[0;31mUnicodeEncodeError\u001b[0m: 'ascii' codec can't encode characters in position 20-21: ordinal not in range(128)"
     ]
    }
   ],
   "source": [
    "total_periods = 132\n",
    "rng = pd.date_range('1/1/2005', periods= total_periods, freq='M')\n",
    "months_per_period = 3\n",
    "for i in range(1,total_periods/months_per_period):\n",
    "    period = i * months_per_period\n",
    "    curr_rng = rng[:period]\n",
    "    curr_start = curr_rng[0]\n",
    "    curr_end = curr_rng[-1]\n",
    "#     print curr_start, type(curr_start)\n",
    "#     print type(post_2005_edges['invest_date'][2])\n",
    "#     break\n",
    "    mask = (post_2005_edges['invest_date'] >= curr_start) & (post_2005_edges['invest_date'] <= curr_end)\n",
    "    period_snapshot = post_2005_edges[mask]\n",
    "    rtn_string = curr_end.strftime('%Y-%m-%d')\n",
    "    file_name = \"../../unweightedwccsnapshots/cumulative/enddate\" + rtn_string[:10] + \".csv\"\n",
    "    file_name = file_name.encode('utf-8').strip().replace(\"-\",\"\")\n",
    "    print file_name\n",
    "    print curr_end\n",
    "    period_snapshot.to_csv(\"hi\", index='false')"
   ]
  },
  {
   "cell_type": "code",
   "execution_count": null,
   "metadata": {
    "collapsed": false
   },
   "outputs": [],
   "source": [
    "total_periods = 132\n",
    "rng = pd.date_range('1/1/2005', periods= total_periods, freq='M')\n",
    "months_per_period = 3\n",
    "for i in range(1,total_periods/months_per_period):\n",
    "    period = i * months_per_period\n",
    "    curr_rng = rng[period-months_per_period:period]\n",
    "    curr_start = curr_rng[0]\n",
    "    curr_end = curr_rng[-1]\n",
    "#     print curr_rng \n",
    "#     print curr_start, curr_end\n",
    "    \n",
    "    # post_2005_edges \n",
    "    mask = (post_2005_edges['invest_date'] >= curr_start) & (post_2005_edges['funded_at'] <= curr_end)\n",
    "    period_snapshot = post_2005_edges[mask]\n",
    "    file_name = \"../../unweighted_wcc_snapshots/diff/enddate_\" + str(curr_end)[:10] + \".csv\"\n",
    "#     print file_name\n",
    "    period_snapshot.to_csv(file_name, index='false')\n",
    "#     if i ==3:\n",
    "#         break\n"
   ]
  },
  {
   "cell_type": "code",
   "execution_count": null,
   "metadata": {
    "collapsed": false
   },
   "outputs": [],
   "source": [
    "#calculate all shortest path lengths\n",
    "# G = nx.path_graph(5)\n",
    "all_path_lengths = nx.all_pairs_shortest_path_length(G)\n",
    "all_path_lengths_sorted = []\n",
    "for i in range(len(all_path_lengths)):\n",
    "    p = all_path_lengths[i]\n",
    "    curr_distances =  sorted(list(zip(p.keys(),p.values())), key = lambda x: x[1], reverse = True)\n",
    "    all_path_lengths_sorted.append(curr_distances)\n",
    "    \n",
    "all_path_lengths_sorted"
   ]
  },
  {
   "cell_type": "code",
   "execution_count": null,
   "metadata": {
    "collapsed": false
   },
   "outputs": [],
   "source": [
    "#calculate number of paths between every other node\n",
    "# G = nx.path_graph(5)\n",
    "g_size = len(G)\n",
    "\n",
    "all_number_paths = np.zeros((g_size,g_size))\n",
    "\n",
    "for i in range(g_size):\n",
    "    for j in range(i,g_size):\n",
    "        if i == j:\n",
    "            continue\n",
    "        all_paths = nx.all_simple_paths(G, source=i, target=j)\n",
    "        num = len(list(all_paths))\n",
    "        all_number_paths[i,j] = num\n",
    "        all_number_paths[j,i] = num\n",
    "\n",
    "all_number_paths\n"
   ]
  },
  {
   "cell_type": "code",
   "execution_count": null,
   "metadata": {
    "collapsed": false
   },
   "outputs": [],
   "source": [
    "#calculate number of paths between every other node\n",
    "# G = nx.path_graph(5)\n",
    "g_size = len(G)\n",
    "\n",
    "all_number_paths = np.zeros((g_size,g_size))\n",
    "\n",
    "adamic_index = nx.adamic_adar_index(G)\n",
    "adamic_index_list = [p for p in adamic_index]\n",
    "adamic_index_list\n"
   ]
  },
  {
   "cell_type": "code",
   "execution_count": null,
   "metadata": {
    "collapsed": true
   },
   "outputs": [],
   "source": [
    "#once i have generated every graph\n",
    "#for each snapshot\n",
    "    #generate a graph\n",
    "    #for each graph\n",
    "        #get all shortest paths lengths\n",
    "        #get number paths between every node\n",
    "        #get adamic index\n",
    "        #store it properly\n",
    "        \n",
    "#random link predictor\n"
   ]
  },
  {
   "cell_type": "code",
   "execution_count": null,
   "metadata": {
    "collapsed": false
   },
   "outputs": [],
   "source": [
    "G"
   ]
  },
  {
   "cell_type": "code",
   "execution_count": null,
   "metadata": {
    "collapsed": false
   },
   "outputs": [],
   "source": [
    "post_2005_edges"
   ]
  },
  {
   "cell_type": "code",
   "execution_count": null,
   "metadata": {
    "collapsed": false
   },
   "outputs": [],
   "source": [
    "wcc_df"
   ]
  },
  {
   "cell_type": "code",
   "execution_count": null,
   "metadata": {
    "collapsed": true
   },
   "outputs": [],
   "source": []
  }
 ],
 "metadata": {
  "kernelspec": {
   "display_name": "Python 2",
   "language": "python",
   "name": "python2"
  },
  "language_info": {
   "codemirror_mode": {
    "name": "ipython",
    "version": 2
   },
   "file_extension": ".py",
   "mimetype": "text/x-python",
   "name": "python",
   "nbconvert_exporter": "python",
   "pygments_lexer": "ipython2",
   "version": "2.7.10"
  }
 },
 "nbformat": 4,
 "nbformat_minor": 0
}
