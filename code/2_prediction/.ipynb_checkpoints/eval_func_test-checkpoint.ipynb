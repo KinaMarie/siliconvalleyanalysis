{
 "cells": [
  {
   "cell_type": "code",
   "execution_count": 1,
   "metadata": {
    "collapsed": true
   },
   "outputs": [],
   "source": [
    "# Do we need to parallelize? Yes."
   ]
  },
  {
   "cell_type": "code",
   "execution_count": 20,
   "metadata": {
    "collapsed": false
   },
   "outputs": [],
   "source": [
    "from __future__ import division\n",
    "import numpy as np\n",
    "import random\n",
    "import multiprocessing as mp\n",
    "from collections import Counter\n",
    "import functools\n",
    "import datetime\n",
    "import matplotlib.pyplot as plt\n",
    "import seaborn\n",
    "import math\n",
    "import datetime as dt\n",
    "import networkx as nx\n",
    "import operator"
   ]
  },
  {
   "cell_type": "code",
   "execution_count": 3,
   "metadata": {
    "collapsed": true
   },
   "outputs": [],
   "source": [
    "# Template for what a scoring function should look like\n",
    "# Input --> source and destination, reference to graph\n",
    "# Output --> score (how do we normalize???)\n",
    "# g is passed by reference, by default, in python\n",
    "def test_score(investor, company, g):\n",
    "    return 0.5\n",
    "\n",
    "# return a random float as the score\n",
    "def rand_score(investor, company, g):\n",
    "    return random.random()"
   ]
  },
  {
   "cell_type": "code",
   "execution_count": 4,
   "metadata": {
    "collapsed": true
   },
   "outputs": [],
   "source": [
    "#DON'T FORGET TO CHECK FOR IGNORE EDGES THAT ALREADY EXIST\n",
    "# We want to factor our code so that it is efficient for simple multiprocessing\n",
    "#\n",
    "# Given a LIST of investors, a SINGLE company, calculate the number of TP/TN/FP/FN\n",
    "# and return as a counter. This is meant to run inside of eval_prec_recall.\n",
    "def company_score_pred_eval(company, investors, truth, score_function, threshold, g):\n",
    "    result = Counter()\n",
    "    for investor in investors:\n",
    "        # Calculate the score_function score\n",
    "        score = score_function(investor, company, g)\n",
    "\n",
    "        # Make a prediction based on the threshold\n",
    "        link_predicted = (score > threshold)\n",
    "\n",
    "        # Record if it was a true/false pos or true/false neg\n",
    "        if link_predicted:\n",
    "            if (investor, company) in truth:\n",
    "                result['tp'] += 1\n",
    "            else:\n",
    "                result['fp'] += 1\n",
    "        else:\n",
    "            if (investor, company) not in truth:\n",
    "                result['tn'] += 1\n",
    "            else:\n",
    "                result['fn'] += 1\n",
    "    \n",
    "    return result\n",
    "    "
   ]
  },
  {
   "cell_type": "code",
   "execution_count": 5,
   "metadata": {
    "collapsed": false
   },
   "outputs": [
    {
     "data": {
      "text/plain": [
       "Counter({'fn': 2, 'fp': 1024, 'tn': 969, 'tp': 4})"
      ]
     },
     "execution_count": 5,
     "metadata": {},
     "output_type": "execute_result"
    }
   ],
   "source": [
    "# Test Company Score/Pred/Eval\n",
    "random_truth = set(map(lambda x: (random.randint(1,2000), random.randint(2001, 4000)), range(1,10000)))\n",
    "company_score_pred_eval(2001, range(1, 2000), random_truth, rand_score, 0.5, [])\n"
   ]
  },
  {
   "cell_type": "code",
   "execution_count": 6,
   "metadata": {
    "collapsed": false,
    "scrolled": true
   },
   "outputs": [],
   "source": [
    "#### SINGLE THRESHOLD VERSION WITH MULTIPROCESSING\n",
    "# It's inefficient to calculate and store all of the scores\n",
    "# between all possible links\n",
    "#\n",
    "# truth is a set-like object containing all links (investor, company)\n",
    "# created in the validation period\n",
    "#\n",
    "# score_function: a function that calculates a normalized\n",
    "# score given investor, company, g\n",
    "#\n",
    "# threshold is a float above which values will be predicted positive\n",
    "#\n",
    "# g is the underlying graph\n",
    "#\n",
    "# RETURNS the confusion matrix.\n",
    "def multi_eval_prec_recall(truth, score_function, threshold, g):\n",
    "    # initialize multiprocessing pool\n",
    "    pool = mp.Pool(processes=4)\n",
    "        \n",
    "    # initialize counters\n",
    "    full_results = Counter({'tp':0, 'tn':0, 'fp':0, 'fn':0})\n",
    "    \n",
    "    # initialize list of companies and investors\n",
    "    investors = range(1, 2000)\n",
    "    companies = range(2001, 4000)\n",
    "    \n",
    "    # Generate a function that is a function of just company, from MP\n",
    "    evaluator = functools.partial(company_score_pred_eval, \n",
    "                                  truth=truth,\n",
    "                                  score_function=score_function, \n",
    "                                  threshold=threshold,\n",
    "                                  g=g,\n",
    "                                  investors=investors)\n",
    "    \n",
    "    # iterate over all companies\n",
    "    query = pool.imap(evaluator, companies, math.ceil(len(investors)/16))\n",
    "    \n",
    "    full_results = reduce(lambda x, y: x + y, query)\n",
    "\n",
    "    pool.close()\n",
    "    pool.join()\n",
    "\n",
    "    return full_results\n",
    "\n",
    "    "
   ]
  },
  {
   "cell_type": "code",
   "execution_count": 7,
   "metadata": {
    "collapsed": true
   },
   "outputs": [],
   "source": [
    "def calc_prec(confusion):\n",
    "    (tp, tn, fp, fn) = (confusion[\"tp\"], confusion[\"tn\"], confusion[\"fp\"], confusion[\"fn\"])\n",
    "    \n",
    "    # calculate precision\n",
    "    if (tp+fp) > 0:\n",
    "        precision = tp/(tp+fp)\n",
    "    else:\n",
    "        precision = np.NaN\n",
    "    \n",
    "    return precision\n",
    "\n",
    "def calc_recall(confusion):\n",
    "    (tp, tn, fp, fn) = (confusion[\"tp\"], confusion[\"tn\"], confusion[\"fp\"], confusion[\"fn\"])\n",
    "    \n",
    "    # calculate recall\n",
    "    if (tp+fn) > 0:\n",
    "        recall = tp/(tp+fn)\n",
    "    else:\n",
    "        recall = np.NaN\n",
    "    \n",
    "    return recall\n",
    "\n",
    "def calc_tpr(confusion):\n",
    "    (tp, tn, fp, fn) = (confusion[\"tp\"], confusion[\"tn\"], confusion[\"fp\"], confusion[\"fn\"])\n",
    "    \n",
    "    # calculate tpr\n",
    "    if (tp+fp) > 0:\n",
    "        tpr = tp/(tp+fp)\n",
    "    else:\n",
    "        tpr = np.NaN\n",
    "    \n",
    "    return tpr\n",
    "\n",
    "def calc_fpr(confusion):\n",
    "    (tp, tn, fp, fn) = (confusion[\"tp\"], confusion[\"tn\"], confusion[\"fp\"], confusion[\"fn\"])\n",
    "    \n",
    "    # calculate tpr\n",
    "    if (tp+fp) > 0:\n",
    "        fpr = fp/(tn+fp)\n",
    "    else:\n",
    "        fpr = np.NaN\n",
    "    \n",
    "    return fpr"
   ]
  },
  {
   "cell_type": "code",
   "execution_count": 8,
   "metadata": {
    "collapsed": false,
    "scrolled": false
   },
   "outputs": [
    {
     "name": "stdout",
     "output_type": "stream",
     "text": [
      "CPU times: user 44 ms, sys: 16 ms, total: 60 ms\n",
      "Wall time: 1.32 s\n"
     ]
    },
    {
     "data": {
      "text/plain": [
       "Counter({'fn': 785, 'fp': 798874, 'tn': 3196128, 'tp': 214})"
      ]
     },
     "execution_count": 8,
     "metadata": {},
     "output_type": "execute_result"
    }
   ],
   "source": [
    "# Test Eval/Prec/Recall \n",
    "random_truth = set(map(lambda x: (random.randint(1,2000), random.randint(2001, 4000)), range(1,1000)))\n",
    "%time multi_eval_prec_recall(random_truth, rand_score, 0.8, [])\n"
   ]
  },
  {
   "cell_type": "code",
   "execution_count": 9,
   "metadata": {
    "collapsed": false
   },
   "outputs": [],
   "source": [
    "def calc_multiple_results(truth, score_function, g, steps):\n",
    "    print \"START: \", datetime.datetime.now()\n",
    "    results = []\n",
    "    for threshold in map(lambda x: x/steps, range(1,steps)):\n",
    "        results.append(multi_eval_prec_recall(truth, score_function, threshold, g))\n",
    "        print threshold, datetime.datetime.now()\n",
    "\n",
    "    print \"END: \", datetime.datetime.now()\n",
    "    \n",
    "    return results\n",
    "\n",
    "def calc_roc_data(results):\n",
    "    tpr = [calc_tpr(result) for result in results]\n",
    "    fpr = [calc_fpr(result) for result in results]\n",
    "    \n",
    "    return (tpr, fpr)\n"
   ]
  },
  {
   "cell_type": "code",
   "execution_count": 13,
   "metadata": {
    "collapsed": false
   },
   "outputs": [
    {
     "name": "stdout",
     "output_type": "stream",
     "text": [
      "START:  2015-12-05 20:58:22.437239\n",
      "0.05 2015-12-05 20:58:24.882007\n",
      "0.1 2015-12-05 20:58:27.413016\n",
      "0.15 2015-12-05 20:58:30.005226\n",
      "0.2 2015-12-05 20:58:32.585362\n",
      "0.25 2015-12-05 20:58:35.139750\n",
      "0.3 2015-12-05 20:58:37.707011\n",
      "0.35 2015-12-05 20:58:40.280961\n",
      "0.4 2015-12-05 20:58:43.332311\n",
      "0.45 2015-12-05 20:58:45.954972\n",
      "0.5 2015-12-05 20:58:48.785807\n",
      "0.55 2015-12-05 20:58:52.106923\n",
      "0.6 2015-12-05 20:58:55.712045\n",
      "0.65 2015-12-05 20:58:59.416429\n",
      "0.7 2015-12-05 20:59:02.748872\n",
      "0.75 2015-12-05 20:59:05.995034\n",
      "0.8 2015-12-05 20:59:09.512731\n",
      "0.85 2015-12-05 20:59:12.033199\n",
      "0.9 2015-12-05 20:59:14.431902\n",
      "0.95 2015-12-05 20:59:16.768902\n",
      "END:  2015-12-05 20:59:16.768971\n"
     ]
    }
   ],
   "source": [
    "random_truth = set(map(lambda x: (random.randint(1,2000), random.randint(2001, 4000)), range(1,100000)))\n",
    "results = calc_multiple_results(random_truth, rand_score, [], 20)\n",
    "(tpr, fpr) = calc_roc_data(results)\n"
   ]
  },
  {
   "cell_type": "code",
   "execution_count": 19,
   "metadata": {
    "collapsed": true
   },
   "outputs": [],
   "source": [
    "plt.plot(fpr, tpr, label = \"Random Prediction\")\n",
    "\n",
    "plt.title(\"ROC Curves\")\n",
    "plt.xlim([0,1])\n",
    "#plt.ylim([0,1])\n",
    "plt.xlabel(\"FPR\")\n",
    "plt.ylabel(\"TPR\")\n",
    "plt.legend()\n",
    "plt.show()"
   ]
  },
  {
   "cell_type": "code",
   "execution_count": 35,
   "metadata": {
    "collapsed": false
   },
   "outputs": [],
   "source": [
    "    # CONSIDER USE PRUNING TO REDUCE NUMBER OF COMPUTATIONS FOR CERTAIN TYPES OF COMPUTATIONS"
   ]
  },
  {
   "cell_type": "code",
   "execution_count": 61,
   "metadata": {
    "collapsed": false
   },
   "outputs": [
    {
     "data": {
      "text/plain": [
       "[0.005,\n",
       " 0.01,\n",
       " 0.015,\n",
       " 0.02,\n",
       " 0.025,\n",
       " 0.03,\n",
       " 0.035,\n",
       " 0.04,\n",
       " 0.045,\n",
       " 0.05,\n",
       " 0.055,\n",
       " 0.06,\n",
       " 0.065,\n",
       " 0.07,\n",
       " 0.075,\n",
       " 0.08,\n",
       " 0.085,\n",
       " 0.09,\n",
       " 0.095,\n",
       " 0.1,\n",
       " 0.105,\n",
       " 0.11,\n",
       " 0.115,\n",
       " 0.12,\n",
       " 0.125,\n",
       " 0.13,\n",
       " 0.135,\n",
       " 0.14,\n",
       " 0.145,\n",
       " 0.15,\n",
       " 0.155,\n",
       " 0.16,\n",
       " 0.165,\n",
       " 0.17,\n",
       " 0.175,\n",
       " 0.18,\n",
       " 0.185,\n",
       " 0.19,\n",
       " 0.195,\n",
       " 0.2,\n",
       " 0.205,\n",
       " 0.21,\n",
       " 0.215,\n",
       " 0.22,\n",
       " 0.225,\n",
       " 0.23,\n",
       " 0.235,\n",
       " 0.24,\n",
       " 0.245,\n",
       " 0.25,\n",
       " 0.255,\n",
       " 0.26,\n",
       " 0.265,\n",
       " 0.27,\n",
       " 0.275,\n",
       " 0.28,\n",
       " 0.285,\n",
       " 0.29,\n",
       " 0.295,\n",
       " 0.3,\n",
       " 0.305,\n",
       " 0.31,\n",
       " 0.315,\n",
       " 0.32,\n",
       " 0.325,\n",
       " 0.33,\n",
       " 0.335,\n",
       " 0.34,\n",
       " 0.345,\n",
       " 0.35,\n",
       " 0.355,\n",
       " 0.36,\n",
       " 0.365,\n",
       " 0.37,\n",
       " 0.375,\n",
       " 0.38,\n",
       " 0.385,\n",
       " 0.39,\n",
       " 0.395,\n",
       " 0.4,\n",
       " 0.405,\n",
       " 0.41,\n",
       " 0.415,\n",
       " 0.42,\n",
       " 0.425,\n",
       " 0.43,\n",
       " 0.435,\n",
       " 0.44,\n",
       " 0.445,\n",
       " 0.45,\n",
       " 0.455,\n",
       " 0.46,\n",
       " 0.465,\n",
       " 0.47,\n",
       " 0.475,\n",
       " 0.48,\n",
       " 0.485,\n",
       " 0.49,\n",
       " 0.495,\n",
       " 0.5,\n",
       " 0.505,\n",
       " 0.51,\n",
       " 0.515,\n",
       " 0.52,\n",
       " 0.525,\n",
       " 0.53,\n",
       " 0.535,\n",
       " 0.54,\n",
       " 0.545,\n",
       " 0.55,\n",
       " 0.555,\n",
       " 0.56,\n",
       " 0.565,\n",
       " 0.57,\n",
       " 0.575,\n",
       " 0.58,\n",
       " 0.585,\n",
       " 0.59,\n",
       " 0.595,\n",
       " 0.6,\n",
       " 0.605,\n",
       " 0.61,\n",
       " 0.615,\n",
       " 0.62,\n",
       " 0.625,\n",
       " 0.63,\n",
       " 0.635,\n",
       " 0.64,\n",
       " 0.645,\n",
       " 0.65,\n",
       " 0.655,\n",
       " 0.66,\n",
       " 0.665,\n",
       " 0.67,\n",
       " 0.675,\n",
       " 0.68,\n",
       " 0.685,\n",
       " 0.69,\n",
       " 0.695,\n",
       " 0.7,\n",
       " 0.705,\n",
       " 0.71,\n",
       " 0.715,\n",
       " 0.72,\n",
       " 0.725,\n",
       " 0.73,\n",
       " 0.735,\n",
       " 0.74,\n",
       " 0.745,\n",
       " 0.75,\n",
       " 0.755,\n",
       " 0.76,\n",
       " 0.765,\n",
       " 0.77,\n",
       " 0.775,\n",
       " 0.78,\n",
       " 0.785,\n",
       " 0.79,\n",
       " 0.795,\n",
       " 0.8,\n",
       " 0.805,\n",
       " 0.81,\n",
       " 0.815,\n",
       " 0.82,\n",
       " 0.825,\n",
       " 0.83,\n",
       " 0.835,\n",
       " 0.84,\n",
       " 0.845,\n",
       " 0.85,\n",
       " 0.855,\n",
       " 0.86,\n",
       " 0.865,\n",
       " 0.87,\n",
       " 0.875,\n",
       " 0.88,\n",
       " 0.885,\n",
       " 0.89,\n",
       " 0.895,\n",
       " 0.9,\n",
       " 0.905,\n",
       " 0.91,\n",
       " 0.915,\n",
       " 0.92,\n",
       " 0.925,\n",
       " 0.93,\n",
       " 0.935,\n",
       " 0.94,\n",
       " 0.945,\n",
       " 0.95,\n",
       " 0.955,\n",
       " 0.96,\n",
       " 0.965,\n",
       " 0.97,\n",
       " 0.975,\n",
       " 0.98,\n",
       " 0.985,\n",
       " 0.99,\n",
       " 0.995]"
      ]
     },
     "execution_count": 61,
     "metadata": {},
     "output_type": "execute_result"
    }
   ],
   "source": [
    "map(lambda x: x/200, range(1,200))"
   ]
  }
 ],
 "metadata": {
  "kernelspec": {
   "display_name": "Python 2",
   "language": "python",
   "name": "python2"
  },
  "language_info": {
   "codemirror_mode": {
    "name": "ipython",
    "version": 2
   },
   "file_extension": ".py",
   "mimetype": "text/x-python",
   "name": "python",
   "nbconvert_exporter": "python",
   "pygments_lexer": "ipython2",
   "version": "2.7.10"
  }
 },
 "nbformat": 4,
 "nbformat_minor": 0
}
